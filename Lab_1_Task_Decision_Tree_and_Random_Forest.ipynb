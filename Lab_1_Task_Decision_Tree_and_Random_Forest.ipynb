{
  "cells": [
    {
      "cell_type": "code",
      "execution_count": null,
      "metadata": {
        "colab": {
          "base_uri": "https://localhost:8080/"
        },
        "id": "Yf8C1TS0FWiQ",
        "outputId": "d3db7925-1435-48e8-c6d7-a13298ce8d59"
      },
      "outputs": [
        {
          "output_type": "stream",
          "name": "stdout",
          "text": [
            "Drive already mounted at /content/drive; to attempt to forcibly remount, call drive.mount(\"/content/drive\", force_remount=True).\n"
          ]
        }
      ],
      "source": [
        "from google.colab import drive\n",
        "drive.mount('/content/drive')"
      ]
    },
    {
      "cell_type": "code",
      "execution_count": null,
      "metadata": {
        "id": "GjjUbezLEs9e"
      },
      "outputs": [],
      "source": [
        "import numpy as np\n",
        "import pandas as pd\n",
        "import os\n",
        "import cv2\n",
        "import zipfile\n",
        "import matplotlib.pyplot as plt\n",
        "from sklearn.model_selection import train_test_split\n",
        "from sklearn.preprocessing import LabelEncoder\n",
        "from sklearn.ensemble import RandomForestClassifier\n",
        "from sklearn.tree import DecisionTreeClassifier\n",
        "from sklearn.metrics import accuracy_score, classification_report, confusion_matrix\n",
        "from tensorflow.keras.preprocessing.image import ImageDataGenerator\n",
        "from tensorflow.keras.applications.vgg16 import VGG16, preprocess_input\n",
        "from tensorflow.keras.models import Model\n",
        "from tensorflow.keras.layers import Flatten, Dense"
      ]
    },
    {
      "cell_type": "code",
      "execution_count": null,
      "metadata": {
        "colab": {
          "base_uri": "https://localhost:8080/"
        },
        "id": "96lEOf8OE70i",
        "outputId": "be07f427-92e0-41e6-9a8e-08bd05e588a3"
      },
      "outputs": [
        {
          "output_type": "stream",
          "name": "stdout",
          "text": [
            "Categories: ['MangoLeafBD Dataset']\n"
          ]
        }
      ],
      "source": [
        "# Load Dataset\n",
        "DATASET_PATH = \"/content/MangoLeafBD Dataset.zip\"\n",
        "EXTRACTED_PATH = \"/content/mango_leaf_dataset\"\n",
        "\n",
        "# Extract dataset if not already extracted\n",
        "if not os.path.exists(EXTRACTED_PATH):\n",
        "    with zipfile.ZipFile(DATASET_PATH, 'r') as zip_ref:\n",
        "        zip_ref.extractall(EXTRACTED_PATH)\n",
        "\n",
        "categories = os.listdir(EXTRACTED_PATH)\n",
        "print(\"Categories:\", categories)\n",
        "\n",
        "data = []\n",
        "labels = []\n",
        "image_size = (224, 224)"
      ]
    },
    {
      "cell_type": "code",
      "execution_count": null,
      "metadata": {
        "id": "6inBazfNFBzb"
      },
      "outputs": [],
      "source": [
        "# Read images and resize\n",
        "for category in categories:\n",
        "    path = os.path.join(EXTRACTED_PATH, category)\n",
        "    for img in os.listdir(path):\n",
        "        img_path = os.path.join(path, img)\n",
        "        image = cv2.imread(img_path)\n",
        "        if image is not None:  # Ensure the image is read correctly\n",
        "            image = cv2.resize(image, image_size)\n",
        "            data.append(image)\n",
        "            labels.append(category)\n",
        "        else:\n",
        "            print(f\"Failed to load image: {img_path}\")  # Print error message for failed image loads"
      ]
    },
    {
      "cell_type": "code",
      "source": [
        "# Convert lists to arrays\n",
        "data = np.array(data)\n",
        "labels = np.array(labels)\n",
        "\n",
        "print(\"Data shape:\", data.shape)  # Print the shape of the 'data' array\n",
        "print(\"Labels shape:\", labels.shape)  # Print the shape of the 'labels' array"
      ],
      "metadata": {
        "colab": {
          "base_uri": "https://localhost:8080/"
        },
        "id": "amxaq6umRo9V",
        "outputId": "4ffea7d2-262f-4800-8119-7b1f59bd9e83"
      },
      "execution_count": null,
      "outputs": [
        {
          "output_type": "stream",
          "name": "stdout",
          "text": [
            "Data shape: (0,)\n",
            "Labels shape: (0,)\n"
          ]
        }
      ]
    },
    {
      "cell_type": "code",
      "source": [
        "# Encode labels\n",
        "label_encoder = LabelEncoder()\n",
        "labels = label_encoder.fit_transform(labels)\n"
      ],
      "metadata": {
        "id": "NO1SL42XRr3V"
      },
      "execution_count": null,
      "outputs": []
    },
    {
      "cell_type": "code",
      "source": [
        "# Normalize images\n",
        "data = data / 255.0"
      ],
      "metadata": {
        "id": "HsHZacUTRxrn"
      },
      "execution_count": null,
      "outputs": []
    },
    {
      "cell_type": "code",
      "source": [
        "# Split dataset\n",
        "from sklearn.preprocessing import LabelEncoder\n",
        "\n",
        "label_encoder = LabelEncoder()\n",
        "y_encoded = label_encoder.fit_transform(labels)\n",
        "\n",
        "X_train, X_test, y_train, y_test = train_test_split(data, y_encoded, test_size=0.2, random_state=42, stratify=y_encoded)\n"
      ],
      "metadata": {
        "collapsed": true,
        "id": "oUoZzruARyUx"
      },
      "execution_count": null,
      "outputs": []
    },
    {
      "cell_type": "code",
      "source": [
        "# Feature extraction using VGG16\n",
        "base_model = VGG16(weights='imagenet', include_top=False, input_shape=(224, 224, 3))\n",
        "flatten = Flatten()(base_model.output)\n",
        "model = Model(inputs=base_model.input, outputs=flatten)\n",
        "\n",
        "X_train_features = model.predict(X_train)\n",
        "X_test_features = model.predict(X_test)"
      ],
      "metadata": {
        "id": "BbXQZG4KR2Yg"
      },
      "execution_count": null,
      "outputs": []
    },
    {
      "cell_type": "code",
      "source": [
        "# Train Decision Tree\n",
        "dt = DecisionTreeClassifier(criterion='entropy', max_depth=5, random_state=42)\n",
        "dt.fit(X_train_features, y_train)\n",
        "y_pred_dt = dt.predict(X_test_features)"
      ],
      "metadata": {
        "id": "fOzkzOBZR5ZS"
      },
      "execution_count": null,
      "outputs": []
    },
    {
      "cell_type": "code",
      "source": [
        "# Train Random Forest\n",
        "rf = RandomForestClassifier(n_estimators=100, random_state=42)\n",
        "rf.fit(X_train_features, y_train)\n",
        "y_pred_rf = rf.predict(X_test_features)"
      ],
      "metadata": {
        "id": "ZIGEdG4GR9mF"
      },
      "execution_count": null,
      "outputs": []
    },
    {
      "cell_type": "code",
      "source": [
        "# Evaluate Models\n",
        "def evaluate_model(y_test, y_pred, model_name):\n",
        "    print(f\"{model_name} Results:\")\n",
        "    print(\"Accuracy:\", accuracy_score(y_test, y_pred))\n",
        "    print(\"Classification Report:\\n\", classification_report(y_test, y_pred))\n",
        "    print(\"Confusion Matrix:\\n\", confusion_matrix(y_test, y_pred))\n",
        "    print(\"--------------------------------------\")\n",
        "\n",
        "evaluate_model(y_test, y_pred_dt, \"Decision Tree\")\n",
        "evaluate_model(y_test, y_pred_rf, \"Random Forest\")"
      ],
      "metadata": {
        "id": "4q-CWnLzSAHq"
      },
      "execution_count": null,
      "outputs": []
    }
  ],
  "metadata": {
    "colab": {
      "provenance": []
    },
    "kernelspec": {
      "display_name": "Python 3",
      "name": "python3"
    },
    "language_info": {
      "name": "python"
    }
  },
  "nbformat": 4,
  "nbformat_minor": 0
}